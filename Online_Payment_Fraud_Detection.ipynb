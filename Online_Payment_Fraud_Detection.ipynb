{
  "nbformat": 4,
  "nbformat_minor": 0,
  "metadata": {
    "colab": {
      "provenance": []
    },
    "kernelspec": {
      "name": "python3",
      "display_name": "Python 3"
    },
    "language_info": {
      "name": "python"
    }
  },
  "cells": [
    {
      "cell_type": "code",
      "execution_count": null,
      "metadata": {
        "id": "Xomys3HbuB3a"
      },
      "outputs": [],
      "source": [
        "data= pd.read_csv(\"/content/online-payment-fraud-detection.zip\") data.head(10)"
      ]
    },
    {
      "cell_type": "code",
      "source": [
        "data.describe()\n"
      ],
      "metadata": {
        "id": "AFaQhieguhag"
      },
      "execution_count": null,
      "outputs": []
    },
    {
      "cell_type": "code",
      "source": [
        "data.info()\n"
      ],
      "metadata": {
        "id": "mCUr35Azuiwc"
      },
      "execution_count": null,
      "outputs": []
    },
    {
      "cell_type": "code",
      "source": [
        "duplicates_info = data[data.duplicated()] print(duplicates_info)\n",
        "print(data.isnull().sum())"
      ],
      "metadata": {
        "id": "ybexPIjgukA5"
      },
      "execution_count": null,
      "outputs": []
    },
    {
      "cell_type": "code",
      "source": [
        "import matplotlib.pyplot as plt import seaborn as sns # Visualize the distribution of 'isFraud' and 'isFlaggedFraud' sns.countplot(x='isFraud', data=data) plt.title('Distribution of isFraud') plt.show() sns.countplot(x='isFlaggedFraud', data=data) plt.title('Distribution of isFlaggedFraud') plt.show()\n",
        "data.drop('isFlaggedFraud',inplace=True,axis=1)\n",
        "data.head()"
      ],
      "metadata": {
        "id": "yrYDCwrhuntP"
      },
      "execution_count": null,
      "outputs": []
    },
    {
      "cell_type": "code",
      "source": [
        "obj = (data.dtypes == 'object') object_cols = list(obj[obj].index) print(\"Categorical variables:\", len(object_cols)) int_ = (data.dtypes == 'int') num_cols = list(int_[int_].index) print(\"Integer variables:\", len(num_cols)) fl = (data.dtypes == 'float') fl_cols = list(fl[fl].index) print(\"Float variables:\", len(fl_cols)) print(object_cols) print(num_cols) print(fl_cols)\n",
        "sns.countplot(x='type', data=data)\n"
      ],
      "metadata": {
        "id": "n1leTjiWuqxl"
      },
      "execution_count": null,
      "outputs": []
    },
    {
      "cell_type": "code",
      "source": [
        "data.type.value_counts()\n",
        "type_counts = data['type'].value_counts()\n"
      ],
      "metadata": {
        "id": "tTt1JcOFutku"
      },
      "execution_count": null,
      "outputs": []
    },
    {
      "cell_type": "code",
      "source": [
        "#Accessing the transaction types and their quantities\n",
        "transaction = type_counts.index quantity = type_counts.values\n",
        "import plotly.express as px figure = px.pie(data, values = quantity, names = transaction, hole = 0.5, title = \"Distribution of Transaction type\") figure.show()\n",
        "data.type.value_counts()\n",
        "type = data['type'].value_counts() type\n"
      ],
      "metadata": {
        "id": "0SBuEgNHux1S"
      },
      "execution_count": null,
      "outputs": []
    },
    {
      "cell_type": "code",
      "source": [
        "corr = data.corr() corr"
      ],
      "metadata": {
        "id": "KbnOtexCu1ez"
      },
      "execution_count": null,
      "outputs": []
    }
  ]
}